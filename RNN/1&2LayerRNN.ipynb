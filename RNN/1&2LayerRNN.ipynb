{
 "cells": [
  {
   "cell_type": "code",
   "execution_count": 1,
   "metadata": {},
   "outputs": [
    {
     "name": "stdout",
     "output_type": "stream",
     "text": [
      "1.1.0\n"
     ]
    }
   ],
   "source": [
    "import torch\n",
    "import torch.nn as nn\n",
    "\n",
    "print(torch.__version__)"
   ]
  },
  {
   "cell_type": "code",
   "execution_count": 2,
   "metadata": {},
   "outputs": [
    {
     "name": "stdout",
     "output_type": "stream",
     "text": [
      "RNN(100, 20)\n",
      "torch.Size([10, 3, 20]) torch.Size([1, 3, 20])\n"
     ]
    }
   ],
   "source": [
    "rnn=nn.RNN(input_size=100, hidden_size=20, num_layers=1)\n",
    "print(rnn)\n",
    "\n",
    "x=torch.randn(10, 3, 100)\n",
    "out, h=rnn(x, None)\n",
    "print(out.shape, h.shape)"
   ]
  },
  {
   "cell_type": "code",
   "execution_count": 3,
   "metadata": {},
   "outputs": [
    {
     "name": "stdout",
     "output_type": "stream",
     "text": [
      "RNN(100, 10, num_layers=2)\n",
      "weight_ih_l0 torch.Size([10, 100])\n",
      "weight_hh_l0 torch.Size([10, 10])\n",
      "bias_ih_l0 torch.Size([10])\n",
      "bias_hh_l0 torch.Size([10])\n",
      "weight_ih_l1 torch.Size([10, 10])\n",
      "weight_hh_l1 torch.Size([10, 10])\n",
      "bias_ih_l1 torch.Size([10])\n",
      "bias_hh_l1 torch.Size([10])\n"
     ]
    }
   ],
   "source": [
    "rnn=nn.RNN(input_size=100, hidden_size=10, num_layers=2)\n",
    "print(rnn)\n",
    "for k,v in rnn._parameters.items():\n",
    "    print(k, v.shape)"
   ]
  },
  {
   "cell_type": "code",
   "execution_count": 4,
   "metadata": {},
   "outputs": [
    {
     "name": "stdout",
     "output_type": "stream",
     "text": [
      "RNN(100, 20, num_layers=4)\n",
      "torch.Size([10, 3, 20]) torch.Size([4, 3, 20])\n"
     ]
    }
   ],
   "source": [
    "rnn=nn.RNN(input_size=100, hidden_size=20, num_layers=4)\n",
    "print(rnn)\n",
    "x=torch.randn(10, 3, 100)\n",
    "out, h =rnn(x)\n",
    "print(out.shape, h.shape)"
   ]
  },
  {
   "cell_type": "code",
   "execution_count": 5,
   "metadata": {},
   "outputs": [
    {
     "name": "stdout",
     "output_type": "stream",
     "text": [
      "RNNCell(100, 20)\n",
      "torch.Size([3, 20])\n"
     ]
    }
   ],
   "source": [
    "cell1=nn.RNNCell(100,20)\n",
    "print(cell1)\n",
    "h1=torch.zeros(3, 20)\n",
    "for xt in x:\n",
    "    h1=cell1(xt, h1)\n",
    "print(h1.shape)"
   ]
  },
  {
   "cell_type": "code",
   "execution_count": 6,
   "metadata": {},
   "outputs": [
    {
     "name": "stdout",
     "output_type": "stream",
     "text": [
      "torch.Size([3, 20])\n"
     ]
    }
   ],
   "source": [
    "cell1=nn.RNNCell(100,30)\n",
    "cell2=nn.RNNCell(30,20)\n",
    "h1=torch.zeros(3, 30)\n",
    "h2=torch.zeros(3, 20)\n",
    "for xt in x:\n",
    "    h1=cell1(xt, h1)\n",
    "    h2=cell2(h1, h2)\n",
    "    \n",
    "print(h2.shape)"
   ]
  },
  {
   "cell_type": "code",
   "execution_count": null,
   "metadata": {},
   "outputs": [],
   "source": []
  }
 ],
 "metadata": {
  "kernelspec": {
   "display_name": "Python 3",
   "language": "python",
   "name": "python3"
  },
  "language_info": {
   "codemirror_mode": {
    "name": "ipython",
    "version": 3
   },
   "file_extension": ".py",
   "mimetype": "text/x-python",
   "name": "python",
   "nbconvert_exporter": "python",
   "pygments_lexer": "ipython3",
   "version": "3.7.1"
  }
 },
 "nbformat": 4,
 "nbformat_minor": 2
}
