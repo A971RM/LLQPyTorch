{
 "cells": [
  {
   "cell_type": "code",
   "execution_count": 1,
   "metadata": {},
   "outputs": [],
   "source": [
    "import matplotlib.pyplot as plt\n",
    "import numpy as np\n",
    "import torch\n",
    "import torch.nn as nn\n",
    "import torch.optim as optim\n",
    "\n",
    "%matplotlib inline"
   ]
  },
  {
   "cell_type": "code",
   "execution_count": 2,
   "metadata": {},
   "outputs": [
    {
     "name": "stdout",
     "output_type": "stream",
     "text": [
      "<class 'numpy.int32'> 1\n",
      "torch.Size([1, 50, 1]) torch.Size([1, 50, 1])\n"
     ]
    }
   ],
   "source": [
    "start=np.random.randint(3, size=1)[0]\n",
    "print(type(start), start)\n",
    "num_time_steps=51\n",
    "time_steps=np.linspace(start, start+10, num_time_steps)\n",
    "data=np.sin(time_steps)\n",
    "data=data.reshape(-1, 1)\n",
    "x=torch.tensor(data[:-1]).float().view(1, -1, 1)\n",
    "y=torch.tensor(data[1:]).float().view(1, -1, 1)\n",
    "print(x.shape, y.shape)"
   ]
  },
  {
   "cell_type": "code",
   "execution_count": 3,
   "metadata": {},
   "outputs": [
    {
     "name": "stdout",
     "output_type": "stream",
     "text": [
      "Net(\n",
      "  (rnn): RNN(1, 10, batch_first=True)\n",
      "  (linear): Linear(in_features=10, out_features=1, bias=True)\n",
      ")\n"
     ]
    }
   ],
   "source": [
    "class Net(nn.Module):\n",
    "    def __init__(self,input_size,hidden_size,output_size):\n",
    "        super(Net, self).__init__()\n",
    "        \n",
    "        self.hidden_size=hidden_size\n",
    "        self.rnn=nn.RNN(input_size=input_size, hidden_size=hidden_size,\n",
    "                       num_layers=1, batch_first=True)\n",
    "        self.linear=nn.Linear(hidden_size, output_size)\n",
    "        \n",
    "    def forward(self, x, hidden_prev):\n",
    "        out, hidden_prev=self.rnn(x, hidden_prev)\n",
    "        out=out.view(-1, self.hidden_size)\n",
    "        out=self.linear(out)\n",
    "        out=out.unsqueeze(dim=0)\n",
    "        return out,hidden_prev\n",
    "    \n",
    "input_size=1\n",
    "hidden_size=10\n",
    "output_size=1\n",
    "model=Net(input_size, hidden_size, output_size)\n",
    "print(model)"
   ]
  },
  {
   "cell_type": "code",
   "execution_count": null,
   "metadata": {},
   "outputs": [],
   "source": [
    "criterion=nn.MSELoss()\n",
    "lr=0.001\n",
    "optimizer=optim.Adam(model.parameters(), lr)\n",
    "losses=[]\n",
    "num_time_steps=51\n",
    "hidden_prev=None\n",
    "for itr in range(6000):\n",
    "    start=torch.randint(10, size=(1,)).item()\n",
    "    time_steps=torch.linspace(start, start+10, num_time_steps)\n",
    "    data=torch.sin(time_steps)\n",
    "    x=data[:-1].view(1, -1, 1)\n",
    "    y=data[1:].view(1, -1, 1)\n",
    "\n",
    "    output, hidden_prev = model(x, hidden_prev)\n",
    "    hidden_prev=hidden_prev.detach()\n",
    "    loss=criterion(output, y)\n",
    "    optimizer.zero_grad()\n",
    "    loss.backward()\n",
    "    optimizer.step()\n",
    "    itr+=1\n",
    "    if itr%100==0:\n",
    "#         print(\"Iter:{} loss{}\".format(itr, loss.item()))\n",
    "        losses.append(loss.item())\n",
    "        \n",
    "plt.style.use('ggplot')\n",
    "plt.plot(losses)"
   ]
  },
  {
   "cell_type": "code",
   "execution_count": null,
   "metadata": {},
   "outputs": [],
   "source": [
    "plt.style.use('ggplot')\n",
    "plt.plot(losses)"
   ]
  },
  {
   "cell_type": "code",
   "execution_count": null,
   "metadata": {},
   "outputs": [],
   "source": [
    "predictions=[]\n",
    "input=x[:,0,:]\n",
    "for _ in range(x.shape[1]):\n",
    "    input=input.view([input.size(0), 1, input.size(1)])\n",
    "    pred, hidden_prev=model(input, hidden_prev)\n",
    "    input=pred\n",
    "    predictions.append(pred.detach().numpy().ravel()[0])\n",
    "    \n",
    "rx=x.data.numpy().ravel()\n",
    "print(time_steps[:-1].data.numpy().ravel().shape)\n",
    "plt.scatter(time_steps[:-1], rx)\n",
    "plt.plot(time_steps[:-1].data.numpy().ravel(),predictions, 'g')"
   ]
  },
  {
   "cell_type": "code",
   "execution_count": null,
   "metadata": {},
   "outputs": [],
   "source": [
    "start=torch.randint(10, size=(1,)).item()\n",
    "time_steps=torch.linspace(start, start+10, num_time_steps)\n",
    "data=torch.sin(time_steps)\n",
    "rx=data[:-1].view(1, -1, 1)\n",
    "ry=data[1:].view(1, -1, 1)\n",
    "\n",
    "output, hidden_prev = model(x, hidden_prev)\n",
    "\n",
    "\n",
    "plt.scatter(time_steps[:-1],rx)\n",
    "plt.scatter(time_steps[:-1],output.data.numpy())"
   ]
  },
  {
   "cell_type": "code",
   "execution_count": null,
   "metadata": {},
   "outputs": [],
   "source": []
  }
 ],
 "metadata": {
  "kernelspec": {
   "display_name": "Python 3",
   "language": "python",
   "name": "python3"
  },
  "language_info": {
   "codemirror_mode": {
    "name": "ipython",
    "version": 3
   },
   "file_extension": ".py",
   "mimetype": "text/x-python",
   "name": "python",
   "nbconvert_exporter": "python",
   "pygments_lexer": "ipython3",
   "version": "3.7.1"
  }
 },
 "nbformat": 4,
 "nbformat_minor": 2
}
